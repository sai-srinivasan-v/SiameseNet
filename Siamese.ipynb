{
 "cells": [
  {
   "cell_type": "code",
   "execution_count": null,
   "metadata": {},
   "outputs": [],
   "source": [
    "import tensorflow as tf\n",
    "from tensorflow.keras.layers import *\n",
    "from tensorflow.keras.models import Sequential, Model\n",
    "import numpy as np\n",
    "from tensorflow.keras.callbacks import EarlyStopping\n",
    "from helper_functions import plot_images_side_by_side,make_paired_dataset\n",
    "from model import get_cnn_block\n",
    "\n",
    "mnist = tf.keras.datasets.mnist\n",
    "\n",
    "(X_train, y_train), (X_test, y_test) = mnist.load_data()\n",
    "\n",
    "X_train.shape, y_train.shape, X_test.shape, y_test.shape"
   ]
  },
  {
   "cell_type": "code",
   "execution_count": 2,
   "metadata": {},
   "outputs": [
    {
     "name": "stdout",
     "output_type": "stream",
     "text": [
      "Model: \"model\"\n",
      "__________________________________________________________________________________________________\n",
      " Layer (type)                Output Shape                 Param #   Connected to                  \n",
      "==================================================================================================\n",
      " img_A_inp (InputLayer)      [(None, 28, 28)]             0         []                            \n",
      "                                                                                                  \n",
      " img_B_inp (InputLayer)      [(None, 28, 28)]             0         []                            \n",
      "                                                                                                  \n",
      " sequential_4 (Sequential)   (None, 64)                   1586496   ['img_A_inp[0][0]',           \n",
      "                                                                     'img_B_inp[0][0]']           \n",
      "                                                                                                  \n",
      " concatenate (Concatenate)   (None, 128)                  0         ['sequential_4[0][0]',        \n",
      "                                                                     'sequential_4[1][0]']        \n",
      "                                                                                                  \n",
      " dense_1 (Dense)             (None, 64)                   8256      ['concatenate[0][0]']         \n",
      "                                                                                                  \n",
      " dense_2 (Dense)             (None, 1)                    65        ['dense_1[0][0]']             \n",
      "                                                                                                  \n",
      "==================================================================================================\n",
      "Total params: 1594817 (6.08 MB)\n",
      "Trainable params: 1592897 (6.08 MB)\n",
      "Non-trainable params: 1920 (7.50 KB)\n",
      "__________________________________________________________________________________________________\n"
     ]
    },
    {
     "name": "stderr",
     "output_type": "stream",
     "text": [
      "2025-03-16 18:26:59.138249: I external/local_xla/xla/stream_executor/cuda/cuda_executor.cc:887] could not open file to read NUMA node: /sys/bus/pci/devices/0000:01:00.0/numa_node\n",
      "Your kernel may have been built without NUMA support.\n",
      "2025-03-16 18:26:59.138453: W tensorflow/core/common_runtime/gpu/gpu_device.cc:2256] Cannot dlopen some GPU libraries. Please make sure the missing libraries mentioned above are installed properly if you would like to use GPU. Follow the guide at https://www.tensorflow.org/install/gpu for how to download and setup the required libraries for your platform.\n",
      "Skipping registering GPU devices...\n"
     ]
    }
   ],
   "source": [
    "\n",
    "img_A_inp = Input((28, 28), name='img_A_inp')\n",
    "img_B_inp = Input((28, 28), name='img_B_inp')\n",
    "\n",
    "DEPTH = 64\n",
    "cnn = Sequential([Reshape((28, 28, 1)),\n",
    "                  get_cnn_block(DEPTH),\n",
    "                  get_cnn_block(DEPTH*2),\n",
    "                  get_cnn_block(DEPTH*4),\n",
    "                  get_cnn_block(DEPTH*8),\n",
    "                  GlobalAveragePooling2D(),\n",
    "                  Dense(64, activation='relu')])\n",
    "\n",
    "feature_vector_A = cnn(img_A_inp)\n",
    "feature_vector_B = cnn(img_B_inp)\n",
    "\n",
    "concat = Concatenate()([feature_vector_A, feature_vector_B])\n",
    "\n",
    "dense = Dense(64, activation='relu')(concat)\n",
    "output = Dense(1, activation='sigmoid')(dense)\n",
    "\n",
    "model = Model(inputs=[img_A_inp, img_B_inp], outputs=output)\n",
    "\n",
    "model.summary()"
   ]
  },
  {
   "cell_type": "code",
   "execution_count": 3,
   "metadata": {},
   "outputs": [
    {
     "data": {
      "text/plain": [
       "((300, 28, 28), (300,))"
      ]
     },
     "execution_count": 3,
     "metadata": {},
     "output_type": "execute_result"
    }
   ],
   "source": [
    "\n",
    "random_indices = np.random.choice(X_train.shape[0], 300, replace=False)\n",
    "\n",
    "X_train_sample, y_train_sample = X_train[random_indices], y_train[random_indices]\n",
    "\n",
    "X_train_sample.shape, y_train_sample.shape"
   ]
  },
  {
   "cell_type": "code",
   "execution_count": null,
   "metadata": {},
   "outputs": [],
   "source": [
    "make_paired_dataset(X_train_sample, y_train_sample)\n"
   ]
  },
  {
   "cell_type": "code",
   "execution_count": 5,
   "metadata": {},
   "outputs": [
    {
     "data": {
      "text/plain": [
       "((90000, 2, 28, 28), (90000,))"
      ]
     },
     "execution_count": 5,
     "metadata": {},
     "output_type": "execute_result"
    }
   ],
   "source": [
    "X_train_pairs, y_train_pairs = make_paired_dataset(X_train_sample, y_train_sample)\n",
    "\n",
    "X_train_pairs.shape, y_train_pairs.shape"
   ]
  },
  {
   "cell_type": "code",
   "execution_count": 6,
   "metadata": {},
   "outputs": [
    {
     "data": {
      "text/plain": [
       "((150, 28, 28), (150,))"
      ]
     },
     "execution_count": 6,
     "metadata": {},
     "output_type": "execute_result"
    }
   ],
   "source": [
    "random_indices = np.random.choice(X_test.shape[0], 150, replace=False)\n",
    "\n",
    "X_test_sample, y_test_sample = X_test[random_indices], y_test[random_indices]\n",
    "\n",
    "X_test_sample.shape, y_test_sample.shape"
   ]
  },
  {
   "cell_type": "code",
   "execution_count": 7,
   "metadata": {},
   "outputs": [
    {
     "data": {
      "text/plain": [
       "((22500, 2, 28, 28), (22500,))"
      ]
     },
     "execution_count": 7,
     "metadata": {},
     "output_type": "execute_result"
    }
   ],
   "source": [
    "X_test_pairs, y_test_pairs = make_paired_dataset(X_test_sample, y_test_sample)\n",
    "\n",
    "X_test_pairs.shape, y_test_pairs.shape"
   ]
  },
  {
   "cell_type": "code",
   "execution_count": 8,
   "metadata": {},
   "outputs": [],
   "source": [
    "model.compile(loss='binary_crossentropy',\n",
    "              optimizer=tf.keras.optimizers.Adam(learning_rate=0.001),\n",
    "              metrics=['accuracy'])"
   ]
  },
  {
   "cell_type": "code",
   "execution_count": 9,
   "metadata": {},
   "outputs": [],
   "source": [
    "\n",
    "es = EarlyStopping(patience=3)"
   ]
  },
  {
   "cell_type": "code",
   "execution_count": 14,
   "metadata": {},
   "outputs": [
    {
     "name": "stdout",
     "output_type": "stream",
     "text": [
      "Epoch 1/1000\n",
      "2813/2813 [==============================] - 533s 190ms/step - loss: 0.1247 - accuracy: 0.9515 - val_loss: 0.2288 - val_accuracy: 0.9344\n",
      "Epoch 2/1000\n",
      "2813/2813 [==============================] - 533s 190ms/step - loss: 0.0194 - accuracy: 0.9931 - val_loss: 0.2014 - val_accuracy: 0.9404\n",
      "Epoch 3/1000\n",
      "2813/2813 [==============================] - 533s 190ms/step - loss: 0.0076 - accuracy: 0.9977 - val_loss: 0.2026 - val_accuracy: 0.9597\n",
      "Epoch 4/1000\n",
      "2813/2813 [==============================] - 533s 190ms/step - loss: 0.0057 - accuracy: 0.9982 - val_loss: 0.1558 - val_accuracy: 0.9653\n",
      "Epoch 5/1000\n",
      "2813/2813 [==============================] - 533s 190ms/step - loss: 0.0045 - accuracy: 0.9988 - val_loss: 0.3842 - val_accuracy: 0.9124\n",
      "Epoch 6/1000\n",
      "2813/2813 [==============================] - 534s 190ms/step - loss: 0.0038 - accuracy: 0.9990 - val_loss: 0.1577 - val_accuracy: 0.9660\n",
      "Epoch 7/1000\n",
      "2813/2813 [==============================] - 532s 189ms/step - loss: 0.0031 - accuracy: 0.9990 - val_loss: 0.1676 - val_accuracy: 0.9666\n"
     ]
    },
    {
     "data": {
      "text/plain": [
       "<keras.src.callbacks.History at 0x7f8c5b11fe90>"
      ]
     },
     "execution_count": 14,
     "metadata": {},
     "output_type": "execute_result"
    }
   ],
   "source": [
    "model.fit(x=[X_train_pairs[:, 0, :, :], X_train_pairs[:, 1, :, :]],\n",
    "          y=y_train_pairs,\n",
    "          validation_data=([X_test_pairs[:, 0, :, :], \n",
    "                            X_test_pairs[:, 1, :, :]],\n",
    "                           y_test_pairs),\n",
    "          epochs=1000,\n",
    "          batch_size=32,\n",
    "          callbacks=[es])"
   ]
  },
  {
   "cell_type": "code",
   "execution_count": null,
   "metadata": {},
   "outputs": [
    {
     "name": "stderr",
     "output_type": "stream",
     "text": [
      "/home/sai/SiameseNet/lib/python3.11/site-packages/keras/src/engine/training.py:3103: UserWarning: You are saving your model as an HDF5 file via `model.save()`. This file format is considered legacy. We recommend using instead the native Keras format, e.g. `model.save('my_model.keras')`.\n",
      "  saving_api.save_model(\n"
     ]
    }
   ],
   "source": [
    "\n",
    "model.save('siamese_model.h5')\n",
    "\n",
    "model.save_weights('siamese_weights.h5')"
   ]
  },
  {
   "cell_type": "code",
   "execution_count": 10,
   "metadata": {},
   "outputs": [
    {
     "data": {
      "image/png": "[encoded data removed]",
      "text/plain": [
       "<Figure size 1000x500 with 2 Axes>"
      ]
     },
     "metadata": {},
     "output_type": "display_data"
    }
   ],
   "source": [
    "img_A, img_B = X_test[0], X_test[17]\n",
    "label_A, label_B = y_test[0], y_test[17]\n",
    "\n",
    "label_A, label_B\n",
    "\n",
    "plot_images_side_by_side(img_A, img_B,label_A, label_B)\n"
   ]
  },
  {
   "cell_type": "code",
   "execution_count": 17,
   "metadata": {},
   "outputs": [
    {
     "name": "stdout",
     "output_type": "stream",
     "text": [
      "1/1 [==============================] - 0s 109ms/step\n"
     ]
    },
    {
     "data": {
      "text/plain": [
       "True"
      ]
     },
     "execution_count": 17,
     "metadata": {},
     "output_type": "execute_result"
    }
   ],
   "source": [
    "model.predict([img_A.reshape((1, 28, 28)), \n",
    "               img_B.reshape((1, 28, 28))]).flatten()[0] > 0.5"
   ]
  },
  {
   "cell_type": "code",
   "execution_count": null,
   "metadata": {},
   "outputs": [
    {
     "data": {
      "text/plain": [
       "(7, 5)"
      ]
     },
     "execution_count": 23,
     "metadata": {},
     "output_type": "execute_result"
    }
   ],
   "source": [
    "img_a, img_b = X_test[0], X_test[15]\n",
    "label_A, label_B = y_test[0], y_test[15]\n",
    "\n",
    "label_A, label_B\n",
    "\n",
    "plot_images_side_by_side(img_a, img_b,label_A, label_B)"
   ]
  },
  {
   "cell_type": "code",
   "execution_count": 26,
   "metadata": {},
   "outputs": [
    {
     "name": "stdout",
     "output_type": "stream",
     "text": [
      "1/1 [==============================] - 0s 18ms/step\n"
     ]
    },
    {
     "data": {
      "text/plain": [
       "False"
      ]
     },
     "execution_count": 26,
     "metadata": {},
     "output_type": "execute_result"
    }
   ],
   "source": [
    "model.predict([img_a.reshape((1, 28, 28)),\n",
    "               img_b.reshape((1, 28, 28))]).flatten()[0] > 0.5"
   ]
  }
 ],
 "metadata": {
  "kernelspec": {
   "display_name": "SiameseNet",
   "language": "python",
   "name": "python3"
  },
  "language_info": {
   "codemirror_mode": {
    "name": "ipython",
    "version": 3
   },
   "file_extension": ".py",
   "mimetype": "text/x-python",
   "name": "python",
   "nbconvert_exporter": "python",
   "pygments_lexer": "ipython3",
   "version": "3.11.11"
  }
 },
 "nbformat": 4,
 "nbformat_minor": 2
}
